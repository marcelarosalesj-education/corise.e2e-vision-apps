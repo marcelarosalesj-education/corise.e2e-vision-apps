{
  "cells": [
    {
      "cell_type": "markdown",
      "metadata": {
        "id": "view-in-github",
        "colab_type": "text"
      },
      "source": [
        "<a href=\"https://colab.research.google.com/github/marcelarosalesj/e2e-vision-apps/blob/main/Week_2_Project_Self_Driving_Car.ipynb\" target=\"_parent\"><img src=\"https://colab.research.google.com/assets/colab-badge.svg\" alt=\"Open In Colab\"/></a>"
      ]
    },
    {
      "cell_type": "markdown",
      "metadata": {
        "id": "_Aktcbb3aRNw"
      },
      "source": [
        "#### This project is from [Abubakar Abid's](https://twitter.com/abidlabs) course: *Building Computer Vision Applications* on CoRise. Learn more about the course [here](https://corise.com/course/vision-applications)."
      ]
    },
    {
      "cell_type": "markdown",
      "metadata": {
        "id": "yJTIXeWUz_Gh"
      },
      "source": [
        "# Week 2 Project: Building the \"Eyes\" of a Self-Driving Car\n",
        "\n",
        "Welcome to the second week's project for *Building Computer Vision Applications*!\n",
        "\n",
        "In this week, we are going to get familiar with the key steps of machine learning, with a particular focus on image segmentation. Specifically, we will cover:\n",
        "\n",
        "* finding image segmentation datasets and pretrained models 📖\n",
        "* fine-tuning an image segmentation model on new data 👾\n",
        "* building a computer vision app you can run on your phone or laptop 📷\n",
        "* measuring the performance of a segmentation model on test data and the real world 📈"
      ]
    },
    {
      "cell_type": "markdown",
      "metadata": {
        "id": "GaptPrn3sURb"
      },
      "source": [
        "# Introduction"
      ]
    },
    {
      "cell_type": "markdown",
      "metadata": {
        "id": "mBXkJ-aIuZ4H"
      },
      "source": [
        "Self-driving cars are an exciting real-world application of machine learning, with the potential to save many lives each year. In order for self-driving cars to be fully autonomous, they need to \"see\" and \"understand\" the world around them. What are the machine learning algorithms that enable this? Let's take a look at [Tesla's website](https://www.tesla.com/AI): \"Our per-camera networks analyze raws images to perform **semantic segmentation**...\"\n",
        "\n",
        "What is semantic segmentation? Semantic segmentation is the process of assigning a class to *every pixel in an image*. In week 1, we studied *image classification*, which assigns a class to the entire image. Semantic segmentation is a more fine-grained version, which recognizes that an image can be made up of different objects: for example, an image taken by a camera on a self-driving car could consist of pedestrians, trees, and other cars. Semantic segmentation is used in many other applications as well, such as medical machine learning, where it can be used to identify organs in radiological images. Rather than assigning a single label to the entire image, a semantic segmentation model assigns each pixel a category so that we understand both *what* an image is, and *where* it is. \n",
        "\n",
        "By the end of this project, you'll have built an app that you can run on your laptop or phone that performs semantic segmentation on pictures of the outdoors scenes and will identify the road from the cars from the pedestrians, and so on. It will look something like this:\n",
        "\n",
        "![](https://i.ibb.co/RNv8MgQ/image.png)"
      ]
    },
    {
      "cell_type": "markdown",
      "metadata": {
        "id": "37YHDIHJFUHw"
      },
      "source": [
        "# Step 0: Hardware Setup & Software Libraries\n",
        "\n",
        "We will be utilizing GPUs to train our machine learning model, so we will need to make sure that our Colab notebook is set up correctly. Go to the menu bar and click on Runtime > Change runtime type > Hardware accelerator and **make sure it is set to GPU**. Your Colab notebook may restart once you make the change.\n",
        "\n",
        "We're going to be using some fantastic open-source Python libraries to load our dataset (`datasets`), train our model (`transformers`), evaluate our model (`evaluate`), and build a demo of our model (`gradio`). So let's go ahead and install all of these libraries. "
      ]
    },
    {
      "cell_type": "code",
      "execution_count": null,
      "metadata": {
        "id": "ZoDxhyvfsS0N"
      },
      "outputs": [],
      "source": [
        "!pip install datasets transformers evaluate gradio huggingface_hub"
      ]
    },
    {
      "cell_type": "markdown",
      "source": [
        "In Week 1, you created a Hugging Face account to upload your Gradio demo to Spaces. This week, we'll be uploading a model to your Hugging Face account *programmatically*! The first step is to log in using your Hugging Face token:"
      ],
      "metadata": {
        "id": "mcFlss5T9ByF"
      }
    },
    {
      "cell_type": "code",
      "source": [
        "from huggingface_hub import notebook_login"
      ],
      "metadata": {
        "id": "qdp3asvm86kN"
      },
      "execution_count": null,
      "outputs": []
    },
    {
      "cell_type": "code",
      "source": [
        "notebook_login()"
      ],
      "metadata": {
        "id": "e7yZ1Q__85v0"
      },
      "execution_count": null,
      "outputs": []
    },
    {
      "cell_type": "markdown",
      "metadata": {
        "id": "5qks6gJhucIC"
      },
      "source": [
        "# Step 1: Loading a Dataset"
      ]
    },
    {
      "cell_type": "markdown",
      "metadata": {
        "id": "mLiCkQlguhbD"
      },
      "source": [
        "In this project, we will be using the `datasets` library, which can load tens of thousands of datasets with a single line of code. It can also be used to apply preprocessing functions. Learn more about the datasets library here: https://huggingface.co/docs/datasets/tutorial\n",
        "\n",
        "Most datasets are divided into different splits. For example, you'll often see a *training* data subset, which is used to build the model, a *validation* data subset, which is used to measure the performance of the model while it is training, and a *test* dataset which is used to measure the performance of the model at the very end of training, and is usually considered to describe how well the model will perform in the real world (we'll come back to this).\n",
        "\n",
        "Specifically, we will be using the `segments/sidewalk-semantic` dataset that is available for free from the Hugging Face Hub: https://huggingface.co/datasets/segments/sidewalk-semantic"
      ]
    },
    {
      "cell_type": "markdown",
      "metadata": {
        "id": "d8gImG59yeZ9"
      },
      "source": [
        "* **Load the Semantic Sidewalk Dataset**"
      ]
    },
    {
      "cell_type": "code",
      "execution_count": null,
      "metadata": {
        "id": "6RtYcR-Dx--o"
      },
      "outputs": [],
      "source": [
        "import datasets\n",
        "\n",
        "dataset = # FILL HERE"
      ]
    },
    {
      "cell_type": "markdown",
      "metadata": {
        "id": "mpvyH5NTymVY"
      },
      "source": [
        "* **Explore the dataset by running code below and reading the dataset card linked above. Answer the questions below**"
      ]
    },
    {
      "cell_type": "code",
      "execution_count": null,
      "metadata": {
        "id": "mRY7Xpmp_v7R"
      },
      "outputs": [],
      "source": [
        "# FILL HERE"
      ]
    },
    {
      "cell_type": "markdown",
      "metadata": {
        "id": "jW4MX0mKzDCL"
      },
      "source": [
        "* How many training samples do we have? \n",
        "* What's the size of each image? \n",
        "* How many categories are in this dataset's labels? \n",
        "* Look at a random subset of ~10 training images, do you notice anything interesting about the images in the dataset? Are they as diverse/representative as you would expect or do they have limitations?"
      ]
    },
    {
      "cell_type": "markdown",
      "metadata": {
        "id": "C7R8uW2Ho-p-"
      },
      "source": [
        "* **Simplifying the Training Dataset**"
      ]
    },
    {
      "cell_type": "markdown",
      "metadata": {
        "id": "FCclIrbQpDzy"
      },
      "source": [
        "You'll notice that the original dataset has many similar categories (for example, \"vehicle-car\" is a category, along with \"vehicle-truck\"). To simplify the training process, we will collapse together related categories. In the end, we will have 5 separate categories:\n",
        "* 0: road/sidewalk/path\n",
        "* 1: human\n",
        "* 2: vehicles\n",
        "* 3: other objects (e.g. traffic lights)\n",
        "* 4: nature and background\n",
        "\n",
        "For the purpose of this exercise, we will also make the images a lot smaller (64px by 64px) so that training is easier and faster. The following code processes the training images and labels.\n",
        "\n",
        "We've written the function that applies this transformation to a given sample. Efficiently apply it to each item in the dataset, using for example 8 CPU workers (even then, this code may take a few minutes to run)"
      ]
    },
    {
      "cell_type": "code",
      "execution_count": null,
      "metadata": {
        "id": "teZ3FtgD2KEg"
      },
      "outputs": [],
      "source": [
        "import numpy as np\n",
        "\n",
        "num_classes = 5\n",
        "\n",
        "def transform(sample):\n",
        "    sample[\"pixel_values\"] = sample[\"pixel_values\"].convert(\"RGB\").resize((64,64))\n",
        "    sample[\"label\"] = sample[\"label\"].resize((64,64), Image.NEAREST)\n",
        "    collapse_categories = {**{i: 0 for i in range(1, 8)}, \n",
        "                            **{i: 1 for i in range(8, 10)}, \n",
        "                            **{i: 2 for i in range(10, 18)}, \n",
        "                            **{i: 3 for i in range(18, 28)}}\n",
        "    sample[\"label\"] = np.vectorize(lambda x: collapse_categories.get(x, 4))(np.array(sample[\"label\"]))\n",
        "    return sample\n",
        "    \n",
        "dataset = # FILL HERE"
      ]
    },
    {
      "cell_type": "markdown",
      "metadata": {
        "id": "a5uoMm4rCGvy"
      },
      "source": [
        "Finally, shuffle the dataset and split the dataset into a training dataset (with 99% of the samples) and a test dataset (with the remaining 1%). We have a very small test dataset so that the evaluation step is quick. If you were training a model in a more realistic setting, you would pick a bigger evaluation dataset.\n",
        "\n",
        "You might find the `train_test_split()` method in the `datasets` library useful."
      ]
    },
    {
      "cell_type": "code",
      "execution_count": null,
      "metadata": {
        "id": "zjMamZfU8K-b"
      },
      "outputs": [],
      "source": [
        "# WRITE CODE HERE\n",
        "\n",
        "train_ds = dataset[\"train\"]\n",
        "test_ds = dataset[\"test\"]"
      ]
    },
    {
      "cell_type": "markdown",
      "metadata": {
        "id": "2s46qGGZBuqt"
      },
      "source": [
        "After you run the steps above, examine the `train_ds` and `test_ds` objects, and confirm that the samples look as you expect. Specifically,\n",
        "\n",
        "* How many training and test samples do we have? [ANSWER HERE]\n",
        "* What's the size of each image? [ANSWER HERE]\n",
        "* What are the potential risks or downsides of having such a small test datset? [ANSWER HERE]"
      ]
    },
    {
      "cell_type": "markdown",
      "metadata": {
        "id": "cQ0aT2Lkxu16"
      },
      "source": [
        "# Step 2: Loading a Pretrained Model"
      ]
    },
    {
      "cell_type": "markdown",
      "metadata": {
        "id": "LhROC7rh0OYQ"
      },
      "source": [
        "We will be using the `transformers` library, which can load tens of thousands of machine learning models with a few lines of code. It can also be used to fine-tune these models. Learn more about the `transformers` library here: https://huggingface.co/docs/transformers/index\n",
        "\n",
        "Specifically, we will be using the `Segformer` model that is available for anyone from the Hugging Face Hub: https://huggingface.co/nvidia/segformer-b0-finetuned-ade-512-512. While the details of this architecture are beyond the scope of this course, we will point out that it is based on transformers, just like the vision transformers (ViT) network we used last week for image classification. Also, notice that it has already been fine-tuned for detecting everyday objects. We will _further_ fine-tune it for our specific dataset to speed up the training process."
      ]
    },
    {
      "cell_type": "markdown",
      "metadata": {
        "id": "w11HNDrr1Ags"
      },
      "source": [
        "* **Load the Segformer Model and FeatureExtractor for Inference**"
      ]
    },
    {
      "cell_type": "code",
      "execution_count": null,
      "metadata": {
        "id": "NKUBueAa07fl",
        "collapsed": true
      },
      "outputs": [],
      "source": [
        "from transformers import AutoFeatureExtractor, SegformerForSemanticSegmentation\n",
        "import torch\n",
        "\n",
        "device = torch.device('cuda' if torch.cuda.is_available() else 'cpu')\n",
        "\n",
        "model = # FILL HERE\n",
        "\n",
        "model.eval()\n",
        "model.to(device);"
      ]
    },
    {
      "cell_type": "markdown",
      "metadata": {
        "id": "4NfyfEXLa1Et"
      },
      "source": [
        "We also need to load the **feature extractor** corresponding to the model, so that we can convert the input images into a feature vector that the model can take as input."
      ]
    },
    {
      "cell_type": "code",
      "execution_count": null,
      "metadata": {
        "id": "w37L3EPu3VxT"
      },
      "outputs": [],
      "source": [
        "extractor = # FILL HERE"
      ]
    },
    {
      "cell_type": "markdown",
      "metadata": {
        "id": "EnbteoVGzZmw"
      },
      "source": [
        "# Step 3: Fine-tuning Your Model on the Dataset"
      ]
    },
    {
      "cell_type": "markdown",
      "source": [
        "## 3a. Preprocess the Dataset and Load the Metric"
      ],
      "metadata": {
        "id": "M8UFMWhkj4WT"
      }
    },
    {
      "cell_type": "markdown",
      "metadata": {
        "id": "q6qD8r1v1oZO"
      },
      "source": [
        "Off the shelf, the Segformer model will not be usable for the task that we have in mind, since it was trained for \"general\" image segmentation, not for the specific categories that we would like to predict. As a result, we will need to \"fine-tune\" our model.\n",
        "\n",
        "Learn more about fine-tuning models with the `transformers` library here: https://huggingface.co/docs/transformers/training\n",
        "\n",
        "We will also need to decide which metric to use for our task. Since our task is image segmentation, the `mean IOU` metric seems reasonable: https://huggingface.co/spaces/evaluate-metric/mean_iou"
      ]
    },
    {
      "cell_type": "markdown",
      "metadata": {
        "id": "LKAAlyqn5Onm"
      },
      "source": [
        "* **Preprocess the Dataset**\n",
        "\n",
        "We will convert the images to feature vectors on the fly as we train the model using the `set_transform()` method. This time, the `transform()` has been left for you to write:"
      ]
    },
    {
      "cell_type": "code",
      "execution_count": null,
      "metadata": {
        "id": "602EirtR5Q45"
      },
      "outputs": [],
      "source": [
        "def transform(example_batch):\n",
        "    inputs = # FILL HERE\n",
        "    return inputs\n",
        "\n",
        "train_ds.set_transform(transform)\n",
        "test_ds.set_transform(transform)"
      ]
    },
    {
      "cell_type": "markdown",
      "source": [
        "## 3b. Fine-Tune the Segformer Model on a Training Subset (and Overfit)"
      ],
      "metadata": {
        "id": "aqZFvYXKj_sZ"
      }
    },
    {
      "cell_type": "markdown",
      "source": [
        "As we discussed in lecture, a good way to start training a model is by making sure that you are able to overfit on a small subset of the training dataset. Train your model on 10 images from your training dataset for 10 epochs. \n",
        "\n",
        "We will start by defining our training hyperparameters as a `TrainingArguments` instance.\n",
        "\n",
        "Note that we leave the choice of learning rate to you. You may need to try different learning rates and batch sizes until you are able to overfit successfully on this training dataset.\n"
      ],
      "metadata": {
        "id": "Qq2jBx2dkHNz"
      }
    },
    {
      "cell_type": "code",
      "source": [
        "train_subset_ds = # FILL HERE\n",
        "train_subset_ds.set_transform(transform)"
      ],
      "metadata": {
        "id": "cWsICdnOnAix"
      },
      "execution_count": null,
      "outputs": []
    },
    {
      "cell_type": "code",
      "source": [
        "from transformers import TrainingArguments\n",
        "from transformers import Trainer\n",
        "\n",
        "lr = # FILL HERE\n",
        "epochs = 10\n",
        "batch_size = 2\n",
        "\n",
        "training_args = TrainingArguments(\n",
        "    \"overfit-segmentation-model\",\n",
        "    learning_rate=lr,\n",
        "    num_train_epochs=epochs,\n",
        "    per_device_train_batch_size=batch_size,\n",
        "    per_device_eval_batch_size=batch_size,\n",
        "    evaluation_strategy=\"steps\",\n",
        "    save_steps=20,\n",
        "    eval_steps=5,\n",
        "    logging_steps=1,\n",
        ")\n",
        "\n",
        "\n",
        "trainer = Trainer(\n",
        "    model=model,\n",
        "    args=training_args,\n",
        "    train_dataset=train_subset_ds,\n",
        "    eval_dataset=test_ds,\n",
        ")\n",
        "\n",
        "trainer.train()"
      ],
      "metadata": {
        "id": "hb0xJGTZlLL3"
      },
      "execution_count": null,
      "outputs": []
    },
    {
      "cell_type": "markdown",
      "source": [
        "* **Plot the Loss on the Training and Test Sets Over the 10 Epochs** "
      ],
      "metadata": {
        "id": "M3kuktq52ow7"
      }
    },
    {
      "cell_type": "code",
      "source": [
        "# FILL HERE"
      ],
      "metadata": {
        "id": "lXURLvNZ2oNu"
      },
      "execution_count": null,
      "outputs": []
    },
    {
      "cell_type": "markdown",
      "source": [
        "* Is there any sign of overfitting? [ANSWER HERE]"
      ],
      "metadata": {
        "id": "7R5-QhWO2twj"
      }
    },
    {
      "cell_type": "markdown",
      "metadata": {
        "id": "GJ0Qs3aK3Lf2"
      },
      "source": [
        "## 3c. Fine-Tune the Segformer Model on the Entire Training Set"
      ]
    },
    {
      "cell_type": "markdown",
      "metadata": {
        "id": "ak1Zet4oi8dm"
      },
      "source": [
        "* **Load the Mean IoU Metric**\n",
        "\n",
        "In addition to the loss, we now have to decide on a *metric* we will use to measure the performance for our machine learning model. A natural choice for image classification is *mean Intersection-over-Union (mean IoU)*, which measures the area of overlap between the predicted segmentation and the ground truth divided by the area of union between the predicted segmentation and the ground truth. It is probably the most common metric used for segmentation tasks. \n",
        "\n",
        "Read about the `evaluate` library, which contains many common machine learning metrics here: https://github.com/huggingface/evaluate\n",
        "\n",
        "And use `evaluate.load()` to load the mean IoU metric:"
      ]
    },
    {
      "cell_type": "code",
      "execution_count": null,
      "metadata": {
        "id": "drhPTlyqi7mO"
      },
      "outputs": [],
      "source": [
        "import numpy as np\n",
        "import evaluate\n",
        "from torch import nn\n",
        "\n",
        "metric = # FILL HERE"
      ]
    },
    {
      "cell_type": "markdown",
      "metadata": {
        "id": "Dbmfg4eoXGQr"
      },
      "source": [
        "We will need to write some code to apply the mean IOU metric to the right layers of the neural network. We first need to convert our predictions to logits first, and then reshaped to match the size of the labels. This code has already been written for you:"
      ]
    },
    {
      "cell_type": "code",
      "execution_count": null,
      "metadata": {
        "id": "P_XkpQAWXMM7"
      },
      "outputs": [],
      "source": [
        "def compute_metrics(eval_pred):\n",
        "    with torch.no_grad():\n",
        "        logits, labels = eval_pred\n",
        "        logits_tensor = torch.from_numpy(logits)\n",
        "        logits_tensor = nn.functional.interpolate(\n",
        "            logits_tensor,\n",
        "            size=labels.shape[-2:],\n",
        "            mode=\"bilinear\",\n",
        "            align_corners=False,\n",
        "        ).argmax(dim=1)\n",
        "\n",
        "        pred_labels = logits_tensor.detach().cpu().numpy()\n",
        "        metrics = metric.compute(\n",
        "            predictions=pred_labels,\n",
        "            references=labels,\n",
        "            num_labels=num_classes,\n",
        "            ignore_index=255,\n",
        "            reduce_labels=False,\n",
        "        )\n",
        "        for key, value in metrics.items():\n",
        "            if type(value) is np.ndarray:\n",
        "                metrics[key] = value.tolist()\n",
        "        return metrics\n"
      ]
    },
    {
      "cell_type": "markdown",
      "metadata": {
        "id": "QH1xEP7klGcE"
      },
      "source": [
        "Now, we will take all of the code that you have written and use it to fine-tune the Segformer model on the sidewalk segmentation dataset. Simply run the code below, and your model will fine-tune for 5 epochs. On a **GPU**, this should take about or leass than 30 minutes with the default settings.\n",
        "\n",
        "**Important Note:** these default settings may **NOT** produce a very good segmentation model. For this task, you likely need significantly more training time. That is OK, the point of this exercise is not to train a highly-performant model, but to walk through the steps that would be needed to do that. We will **NOT** be looking at the performance of this model to grade your project. If you have been able to overfit on a small training subset (in part 3b), and the loss is going down in this part, that is sufficient."
      ]
    },
    {
      "cell_type": "code",
      "execution_count": null,
      "metadata": {
        "id": "ukT6WLsu7wrv"
      },
      "outputs": [],
      "source": [
        "lr = # FILL HERE\n",
        "epochs = 5\n",
        "batch_size = 1\n",
        "\n",
        "training_args = TrainingArguments(\n",
        "    \"regular-segmentation-model\",\n",
        "    learning_rate=lr,\n",
        "    num_train_epochs=epochs,\n",
        "    per_device_train_batch_size=batch_size,\n",
        "    per_device_eval_batch_size=batch_size,\n",
        "    evaluation_strategy=\"steps\",\n",
        "    save_steps=200,\n",
        "    eval_steps=200,\n",
        "    logging_steps=20,\n",
        ")\n",
        "\n",
        "trainer = Trainer(\n",
        "    model=model,\n",
        "    args=training_args,\n",
        "    train_dataset=train_ds,\n",
        "    eval_dataset=test_ds,\n",
        "    compute_metrics=compute_metrics,\n",
        ")\n",
        "\n",
        "trainer.train()"
      ]
    },
    {
      "cell_type": "markdown",
      "source": [
        "## 3d. Upload your model to the Hugging Face Hub!\n",
        "\n",
        "In two lines of code, upload your feature extractor and model to the Hugging Face Hub!"
      ],
      "metadata": {
        "id": "z3UWTsr76j8X"
      }
    },
    {
      "cell_type": "code",
      "source": [
        "extractor.push_to_hub(\"my-segmentation-model\")"
      ],
      "metadata": {
        "id": "1CRL4KzGhXuq"
      },
      "execution_count": null,
      "outputs": []
    },
    {
      "cell_type": "code",
      "source": [
        "model.push_to_hub(\"my-segmentation-model\")"
      ],
      "metadata": {
        "id": "ZlN3nE7P6jZA"
      },
      "execution_count": null,
      "outputs": []
    },
    {
      "cell_type": "markdown",
      "source": [
        "What is the URL for your model on the Hub? [ANSWER HERE]\n",
        "\n",
        "Please make sure that the model is **public**"
      ],
      "metadata": {
        "id": "kaf20N5H9v-a"
      }
    },
    {
      "cell_type": "markdown",
      "metadata": {
        "id": "ckPFXvIszgKc"
      },
      "source": [
        "# Step 4: Reporting Model Metrics"
      ]
    },
    {
      "cell_type": "markdown",
      "source": [
        "* **Plot the Loss and Mean IoU on the Training and Test Sets Over the 5 Epochs** "
      ],
      "metadata": {
        "id": "q3EyusBAgCKq"
      }
    },
    {
      "cell_type": "code",
      "source": [
        "# FILL HERE"
      ],
      "metadata": {
        "id": "WyzF4IsJgNDQ"
      },
      "execution_count": null,
      "outputs": []
    },
    {
      "cell_type": "markdown",
      "source": [
        "* Is there any sign of overfitting? [ANSWER HERE]"
      ],
      "metadata": {
        "id": "cRhVxDSdgUOk"
      }
    },
    {
      "cell_type": "markdown",
      "metadata": {
        "id": "rPN5O5MczrbD"
      },
      "source": [
        "# Step 5: Building a Demo"
      ]
    },
    {
      "cell_type": "markdown",
      "metadata": {
        "id": "WBMiNYA_5W88"
      },
      "source": [
        "A high-level metric like mean test IoU doesn't give us a great idea on how the model will work when presented with new data from the real world. To understand this, we will build a web-based demo that we can use on our phones or computers through a web browser to test our model.\n",
        "\n",
        "The `gradio` library lets you build web demos of machine learning models with just a few lines code. Learn more about Gradio here: https://gradio.app/getting_started/\n",
        "\n",
        "Gradio lets you build machine learning demos simply by specifying (1) a prediction function, (2) the input type and (3) the output type of your model. We have already written the prediction function here:"
      ]
    },
    {
      "cell_type": "code",
      "execution_count": null,
      "metadata": {
        "id": "zVq6jN8T6FjA"
      },
      "outputs": [],
      "source": [
        "import matplotlib.pyplot as plt\n",
        "\n",
        "def classify(im):\n",
        "  inputs = extractor(images=im, return_tensors=\"pt\").to(\"cuda\")\n",
        "  outputs = model(**inputs)\n",
        "  logits = outputs.logits\n",
        "  classes = logits[0].detach().cpu().numpy().argmax(axis=0)\n",
        "  colors = np.array([[128,0,0], [128,128,0], [0, 0, 128], \t[128,0,128], [0, 0, 0]])\n",
        "  return colors[classes]"
      ]
    },
    {
      "cell_type": "markdown",
      "metadata": {
        "id": "QhWOPJ2X57bY"
      },
      "source": [
        "* **Build a Gradio web demo of your image classifier and `launch()` it**"
      ]
    },
    {
      "cell_type": "markdown",
      "metadata": {
        "id": "qMDMsc3KnS3U"
      },
      "source": [
        "Create a `gradio.Interface` and launch it! For image classification, the input component should be an `Image` component that passes the image in as a \"PIL\" image, and the output should be a `Image` component as well"
      ]
    },
    {
      "cell_type": "code",
      "execution_count": null,
      "metadata": {
        "collapsed": true,
        "id": "7ZKC4HEADGAG"
      },
      "outputs": [],
      "source": [
        "import gradio as gr\n",
        "\n",
        "interface = # FILL HERE\n",
        "\n",
        "interface.launch(debug=True)"
      ]
    },
    {
      "cell_type": "markdown",
      "metadata": {
        "id": "AH9_sZ_00JTB"
      },
      "source": [
        "# Step 6: Trying your Model with \"Real World\" Data!"
      ]
    },
    {
      "cell_type": "markdown",
      "metadata": {
        "id": "M7K7GoRa6Fin"
      },
      "source": [
        "* **Use the share link created above to open up your app on your phone**"
      ]
    },
    {
      "cell_type": "markdown",
      "metadata": {
        "id": "qZ13z89G6juq"
      },
      "source": [
        "Now test your model on some real images -- perhaps you can go outside and take a picture of your car. Or you can upload a picture of a road you found online. Although your model may not have been trained for very long, is it still able to distinguish any object classes? Why do you think that may or may not be the case?  \n",
        "\n",
        "[ANSWER HERE]"
      ]
    },
    {
      "cell_type": "markdown",
      "source": [
        "# Bonus: Extensions\n",
        "\n",
        "Now that you've worked through the project and have a functioning app, what else can we try?\n",
        "* **Try training the model to convergence.** For this project, we only trained the model for 5 epochs, which is far too little for a real image segmentation model. Instead you can let the model train until it fully converges. How far can you increase the mean IoU?\n",
        "* **Try a zero-shot image segmentation model.** If you're tired of waiting for your model to train, you could try a zero-shot image segmentation models, which does not have to be retrained for specific applications. How well does a zero-shot segmentation model like [GroupViT](https://huggingface.co/nvidia/groupvit-gcc-yfcc) work for this problem?\n",
        "* **Set up an inference widget.** After you uploaded your model to the Hugging Face Hub, you may have noticed a message on the right side of the screen saying, \"Unable to determine this model’s pipeline type. Check the docs.\" This is usually where the inference widget goes, which allows anyone to try out your model directly from the web. Follow the docs to set up the inference widget for your model. \n",
        "* **Systematically explore different learning rates**: The learning rate is one of the most important hyperparameters when it comes to training machine learning models. Explore at least 8 different learning rates across 4 orders of magnitude. Which learning rates produce the best model?\n",
        "* **Try training a segmentation model on the original data**: To speed up the learning process, we reduced the number of classes and the resolution of the images. Can you successfully train a model on the original data? This might require you to have Colab Pro, so that you can fit the images in the original resolution in memory.\n"
      ],
      "metadata": {
        "id": "dYm6GXEFmox0"
      }
    },
    {
      "cell_type": "markdown",
      "metadata": {
        "id": "_7f2n7MFbmA0"
      },
      "source": [
        "\n",
        "\n",
        "---\n",
        "\n",
        "\n",
        "#### This project is from [Abubakar Abid's](https://twitter.com/abidlabs) course: *Building Computer Vision Applications* on CoRise. Learn more about the course [here](https://corise.com/course/vision-applications)."
      ]
    }
  ],
  "metadata": {
    "accelerator": "GPU",
    "colab": {
      "background_execution": "on",
      "collapsed_sections": [],
      "machine_shape": "hm",
      "provenance": [],
      "include_colab_link": true
    },
    "gpuClass": "standard",
    "kernelspec": {
      "display_name": "Python 3",
      "name": "python3"
    },
    "language_info": {
      "name": "python"
    }
  },
  "nbformat": 4,
  "nbformat_minor": 0
}